{
 "cells": [
  {
   "cell_type": "markdown",
   "id": "8741713a-dd6b-49cd-a05c-0012ac677b04",
   "metadata": {},
   "source": [
    "sin(x)"
   ]
  },
  {
   "cell_type": "code",
   "execution_count": 5,
   "id": "314d8225-5d79-4a91-b476-c97edf4ccf62",
   "metadata": {},
   "outputs": [],
   "source": [
    "import numpy as np\n",
    "import matplotlib.pyplot as plt\n",
    "\n",
    "\n",
    "def sinfunc(x):\n",
    "    return np.sin(x)\n"
   ]
  },
  {
   "cell_type": "markdown",
   "id": "75fdfcba-4b24-47a5-ae5a-c69195bb4cf0",
   "metadata": {},
   "source": [
    "def(x)"
   ]
  },
  {
   "cell_type": "code",
   "execution_count": 3,
   "id": "9c923942-12f1-4817-876a-62433c808f14",
   "metadata": {},
   "outputs": [],
   "source": [
    "def cosfunc(x):\n",
    "    return np.cos(x)"
   ]
  },
  {
   "cell_type": "markdown",
   "id": "90589788-b0e6-4d68-aa62-90af6bddce4f",
   "metadata": {},
   "source": [
    "tabulate sin(x) cos(x)"
   ]
  },
  {
   "cell_type": "code",
   "execution_count": 7,
   "id": "b6a6b4dc-2fe0-483c-99c3-746d5fb108e2",
   "metadata": {},
   "outputs": [
    {
     "ename": "TabError",
     "evalue": "inconsistent use of tabs and spaces in indentation (<string>, line 6)",
     "output_type": "error",
     "traceback": [
      "\u001b[0;36m  File \u001b[0;32m<string>:6\u001b[0;36m\u001b[0m\n\u001b[0;31m    i=i+1\u001b[0m\n\u001b[0m         ^\u001b[0m\n\u001b[0;31mTabError\u001b[0m\u001b[0;31m:\u001b[0m inconsistent use of tabs and spaces in indentation\n"
     ]
    }
   ],
   "source": [
    "def thousand():\n",
    "    i=0\n",
    "    \twhile (i<=1000):\n",
    "    \t\tprint(str(i)+\"    \"+str(sinfunc(i))+str(cosfunc(i)))\n",
    "    \t\tprint(\"\\n\")\n",
    "        \ti=i+1"
   ]
  },
  {
   "cell_type": "markdown",
   "id": "bbc643c2-c1f0-4dd5-a3a8-4dd2959abe49",
   "metadata": {},
   "source": [
    "loop"
   ]
  },
  {
   "cell_type": "code",
   "execution_count": null,
   "id": "288f2408-d88d-4164-87de-ab19b011e2cb",
   "metadata": {},
   "outputs": [],
   "source": [
    "def functionPrinter():\n",
    "    i=1\n",
    "\twhile (i<=10):\n",
    "\t\tprint(str(i)+\"    \"+str(sinfunc(i))+str(cosfunc(i)))\n",
    "\t\tprint(\"\\n\")\n",
    "\t\ti=i+1"
   ]
  }
 ],
 "metadata": {
  "kernelspec": {
   "display_name": "Python 3 (ipykernel)",
   "language": "python",
   "name": "python3"
  },
  "language_info": {
   "codemirror_mode": {
    "name": "ipython",
    "version": 3
   },
   "file_extension": ".py",
   "mimetype": "text/x-python",
   "name": "python",
   "nbconvert_exporter": "python",
   "pygments_lexer": "ipython3",
   "version": "3.12.0"
  }
 },
 "nbformat": 4,
 "nbformat_minor": 5
}
