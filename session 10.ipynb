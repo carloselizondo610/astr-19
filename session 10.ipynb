{
 "cells": [
  {
   "cell_type": "code",
   "execution_count": 1,
   "id": "6958ce90-7c9c-4cc1-b428-7ddde6a3465c",
   "metadata": {},
   "outputs": [],
   "source": [
    "import matplotlib.pyplot as plt\n",
    "import numpy as np"
   ]
  },
  {
   "cell_type": "code",
   "execution_count": null,
   "id": "097f061b-cc4f-4a32-955c-1254c0e3ede8",
   "metadata": {},
   "outputs": [],
   "source": [
    "random_numbers = np.random.normal(0, 1, 1000)\n",
    "\n",
    "plt.hist(random_numbers, bins=100, color='green', edgecolor='black')\n",
    "plt.xlabel(\"Numbers\")\n",
    "plt.ylabel(\"Waves\")\n",
    "plt.title(\"Distribution of Random Values\")\n",
    "plt.grid(True)\n",
    "\n",
    "plt.savefig(\"Session-9.pdf\",bbox_inches=\"tih"
   ]
  }
 ],
 "metadata": {
  "kernelspec": {
   "display_name": "Python 3 (ipykernel)",
   "language": "python",
   "name": "python3"
  },
  "language_info": {
   "codemirror_mode": {
    "name": "ipython",
    "version": 3
   },
   "file_extension": ".py",
   "mimetype": "text/x-python",
   "name": "python",
   "nbconvert_exporter": "python",
   "pygments_lexer": "ipython3",
   "version": "3.12.0"
  }
 },
 "nbformat": 4,
 "nbformat_minor": 5
}
